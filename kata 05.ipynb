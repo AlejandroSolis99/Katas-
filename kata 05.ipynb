{
 "cells": [
  {
   "cell_type": "markdown",
   "metadata": {},
   "source": [
    "# distancia entre planetas "
   ]
  },
  {
   "cell_type": "code",
   "execution_count": 5,
   "metadata": {},
   "outputs": [
    {
     "name": "stdout",
     "output_type": "stream",
     "text": [
      "628949330\n",
      "390577533.93\n"
     ]
    }
   ],
   "source": [
    "distTierra= int(input('Ingrese la distancia entre la tierra y el sol'))\n",
    "distJupiter= int(input('Ingrese la distancia entre jupiter y el sol'))\n",
    "\n",
    "distancia = (distJupiter-distTierra)\n",
    "print(distancia)\n",
    "print(distancia*0.621)"
   ]
  },
  {
   "cell_type": "markdown",
   "metadata": {},
   "source": [
    "# Conversion de cadenas en numeros "
   ]
  },
  {
   "cell_type": "code",
   "execution_count": 6,
   "metadata": {},
   "outputs": [
    {
     "name": "stdout",
     "output_type": "stream",
     "text": [
      "1375600000 Km\n",
      "854247600.0 millas\n"
     ]
    }
   ],
   "source": [
    "distplaneta1= int(input('Ingrese la distancia del planeta1 al sol'))\n",
    "distplaneta2= int(input('Ingrese la distancia del planeta2 al sol'))\n",
    "\n",
    "distancia = (distplaneta2-distplaneta1)\n",
    "print(distancia,\"Km\")\n",
    "print(abs(distancia*0.621),\"millas\")"
   ]
  }
 ],
 "metadata": {
  "interpreter": {
   "hash": "33541a670e8887513ebdf0f19cec6625b51694c5ef6b1c7e83282c54d5cd54e5"
  },
  "kernelspec": {
   "display_name": "Python 3.10.2 64-bit",
   "language": "python",
   "name": "python3"
  },
  "language_info": {
   "codemirror_mode": {
    "name": "ipython",
    "version": 3
   },
   "file_extension": ".py",
   "mimetype": "text/x-python",
   "name": "python",
   "nbconvert_exporter": "python",
   "pygments_lexer": "ipython3",
   "version": "3.10.2"
  },
  "orig_nbformat": 4
 },
 "nbformat": 4,
 "nbformat_minor": 2
}
