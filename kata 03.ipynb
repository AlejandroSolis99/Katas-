{
 "cells": [
  {
   "cell_type": "markdown",
   "metadata": {},
   "source": [
    "# Alerta de colision de asteroides "
   ]
  },
  {
   "cell_type": "code",
   "execution_count": 6,
   "metadata": {},
   "outputs": [
    {
     "name": "stdout",
     "output_type": "stream",
     "text": [
      "Sistemas bajo control\n"
     ]
    }
   ],
   "source": [
    "vel = int(input(\"Velocidad del asteroide:\"))\n",
    "\n",
    "if vel > 25:\n",
    "    print(\"!Advertencia¡, asteroide con velocidad:\",vel,\"Km/s detectado\")\n",
    "else:\n",
    "    print(\"Sistemas bajo control\")"
   ]
  },
  {
   "cell_type": "markdown",
   "metadata": {},
   "source": [
    "# Alerta de asteroide en el cielo "
   ]
  },
  {
   "cell_type": "code",
   "execution_count": 7,
   "metadata": {},
   "outputs": [
    {
     "name": "stdout",
     "output_type": "stream",
     "text": [
      "Sistemas bajo control\n"
     ]
    }
   ],
   "source": [
    "velasteroide = int(input(\"Velocidad del asteroide:\"))\n",
    "\n",
    "if velasteroide >= 20:\n",
    "    print(\"!Alerta¡ Asteroide visible en el cielo\")\n",
    "else:\n",
    "    print(\"Sistemas bajo control\")"
   ]
  },
  {
   "cell_type": "markdown",
   "metadata": {},
   "source": [
    "# Aleta de impacto de asteroide "
   ]
  },
  {
   "cell_type": "code",
   "execution_count": 15,
   "metadata": {},
   "outputs": [
    {
     "name": "stdout",
     "output_type": "stream",
     "text": [
      "Sistemas bajo control\n"
     ]
    }
   ],
   "source": [
    "vel = int(input(\"Velocidad del asteroide:\"))\n",
    "tam = int(input(\"Tamaño del asteroide:\"))\n",
    "\n",
    "if vel > 25 and tam > 25:\n",
    "    print(\"!!Peligro!!, Asteroide en ruta de colision con la Tierra\")\n",
    "elif vel >=20 :\n",
    "    if tam > 25:\n",
    "        print(\"!Alerta¡ Asteroide visible en el cielo\")\n",
    "    elif tam < 25:\n",
    "        print(\"Asteroide desintegrado en la atmósfera\")\n",
    "else:\n",
    "    print(\"Sistemas bajo control\")"
   ]
  }
 ],
 "metadata": {
  "interpreter": {
   "hash": "33541a670e8887513ebdf0f19cec6625b51694c5ef6b1c7e83282c54d5cd54e5"
  },
  "kernelspec": {
   "display_name": "Python 3.10.2 64-bit",
   "language": "python",
   "name": "python3"
  },
  "language_info": {
   "codemirror_mode": {
    "name": "ipython",
    "version": 3
   },
   "file_extension": ".py",
   "mimetype": "text/x-python",
   "name": "python",
   "nbconvert_exporter": "python",
   "pygments_lexer": "ipython3",
   "version": "3.10.2"
  },
  "orig_nbformat": 4
 },
 "nbformat": 4,
 "nbformat_minor": 2
}
