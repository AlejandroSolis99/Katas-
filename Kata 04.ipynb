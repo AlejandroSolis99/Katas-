{
 "cells": [
  {
   "cell_type": "markdown",
   "metadata": {},
   "source": [
    "# Transformacion de cadenas "
   ]
  },
  {
   "cell_type": "code",
   "execution_count": 22,
   "metadata": {},
   "outputs": [
    {
     "name": "stdout",
     "output_type": "stream",
     "text": [
      " \n",
      "On average, the Moon moves 4cm away from the Earth every year\n"
     ]
    }
   ],
   "source": [
    "text = \"\"\"Interesting facts about the Moon. The Moon is Earth's only satellite. There are several interesting facts about the Moon and how it affects life here on Earth. \n",
    "On average, the Moon moves 4cm away from the Earth every year. This yearly drift is not significant enough to cause immediate effects on Earth. The highest dayligh\"\"\"\n",
    "\n",
    "text.split('. ')\n",
    "'average', 'temperature', 'distance' in text\n",
    "\n",
    "for item in text.split('.'):\n",
    "    if item.count('average'.lower()) or item.count('temperature'.lower()) or item.count('distance'.lower()) == 1:\n",
    "        print(item.replace('C', 'Celsius'))"
   ]
  },
  {
   "cell_type": "markdown",
   "metadata": {},
   "source": [
    "# Formateando la Cadena "
   ]
  },
  {
   "cell_type": "code",
   "execution_count": 57,
   "metadata": {},
   "outputs": [
    {
     "name": "stdout",
     "output_type": "stream",
     "text": [
      "Influencia Gravitatoria De La Luna Titan En El Planeta Saturno\n",
      " Nombre: Titan\n",
      " Planeta al que pertenece: Saturno\n",
      " Gravedad(metros): 1.4300000000000002\n"
     ]
    }
   ],
   "source": [
    "name = \"Titan\"\n",
    "gravity = 0.00143 # in kms\n",
    "planet = \"Saturno\"\n",
    "\n",
    "Titulo=f'Influencia gravitatoria de la luna {name} en el planeta {planet}\\n'.title()\n",
    "plantilla = (\"Nombre: {nombre}\\n Planeta al que pertenece: {planeta}\\n Gravedad(metros): {gravedad}\").format(nombre = name, planeta = planet, gravedad = (gravity * 1000))\n",
    "union = f\"\"\"{Titulo} {plantilla}\"\"\"\n",
    "print(union)\n",
    "\n"
   ]
  },
  {
   "cell_type": "code",
   "execution_count": null,
   "metadata": {},
   "outputs": [],
   "source": []
  }
 ],
 "metadata": {
  "interpreter": {
   "hash": "33541a670e8887513ebdf0f19cec6625b51694c5ef6b1c7e83282c54d5cd54e5"
  },
  "kernelspec": {
   "display_name": "Python 3.10.2 64-bit",
   "language": "python",
   "name": "python3"
  },
  "language_info": {
   "codemirror_mode": {
    "name": "ipython",
    "version": 3
   },
   "file_extension": ".py",
   "mimetype": "text/x-python",
   "name": "python",
   "nbconvert_exporter": "python",
   "pygments_lexer": "ipython3",
   "version": "3.10.2"
  },
  "orig_nbformat": 4
 },
 "nbformat": 4,
 "nbformat_minor": 2
}
